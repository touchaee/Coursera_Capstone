{
 "cells": [
  {
   "cell_type": "markdown",
   "metadata": {},
   "source": [
    "<img src = \"https://raw.githubusercontent.com/touchaee/touchaee.github.io/master/images/Project-Capstone.png\">\n",
    "<h1 align = center>Where to open a new Thai restaurant in New York?</h1>"
   ]
  },
  {
   "cell_type": "markdown",
   "metadata": {},
   "source": [
    "## Table of Contents\n",
    "* [Introduction: Business Problem](#introduction)\n",
    "* [Data](#data)\n",
    "* [Methodology](#methodology)\n",
    "* [Analysis](#analysis)\n",
    "* [Results and Discussion](#results)\n",
    "* [Conclusion](#conclusion)"
   ]
  },
  {
   "cell_type": "markdown",
   "metadata": {},
   "source": [
    "## Introduction: Business Problem <a name=\"introduction\"></a>"
   ]
  },
  {
   "cell_type": "markdown",
   "metadata": {},
   "source": [
    "Over the last 20 years, Thai restaurants have been one of the fastest-growing dining categories in New York City. Ever since the advent of places specializing in regional cuisines, often presenting recipes not seen here before, the Thai dining scene has been more exciting than ever before. So that now we have the fiery food of Isan in the northeast, the mellower food of Chiang Mai near the Burmese border, oodles of noodles from Sukhothai, the curries of central and southern Thailand, the urban cuisine of Bangkok, and the Malaysian-leaning food of the peninsula. Our newest arrival is the food of the capital’s Chinatown.\n",
    "\n",
    "But the pandemic has been tough on Thai restaurants, a one-third have closed, mostly as a result of the pandemic. The good news is that new places have arisen to replace them; in fact, Thai has been most prominent in the category of new restaurants, as will be shown in what follows, along with lots of highly recommended old favorites.\n",
    "\n",
    "This project aims to find a location for the opening of a Thai restaurant in NY, Specifically, this report will be targeted to stakeholders interested in opening any restaurant place like **Thai Restaurant** in **New York City**.\n",
    "\n",
    "The first task would be to **find the areas lack Thai Restaurants** by analyzing restaurant data from FourSquare API and **shortlisting an area**, where Thai restaurant is not amongst the most common venues.\n",
    "\n",
    "We will make use of our data science tools to analyze data and focus on the areas and explore its areas and the 10 most common venues in each area so that the best areas where Thai restaurant is not amongst the most common venue can be selected."
   ]
  },
  {
   "cell_type": "markdown",
   "metadata": {},
   "source": [
    "## Data <a name=\"data\"></a>"
   ]
  },
  {
   "cell_type": "markdown",
   "metadata": {},
   "source": [
    "Based on the definition of our problem, the factors that will influence our decision are:\n",
    "* finding the areas lack Thai Restaurants\n",
    "* finding the most common venues\n",
    "* Choosing the right neighborhood within the borough\n",
    "\n",
    "We will be using the geographical coordinates of NY to plot neighborhoods in a borough that is lack of Thai Restaurant and in the city's vicinity, and finally, cluster our neighborhoods and present our findings.\n",
    "\n",
    "Following data sources will be needed to extract/generate the required information:\n",
    "\n",
    "- [**Part 1**: Using a real-world data set from Kaggle containing the Vancouver Crimes from 2003 to 2019](#part1):  A dataset consisting of the crime statistics of each Neighborhood in Vancouver along with the type of crime, recorded year, month, and hour.\n",
    "\n",
    "- [**Part 2**: Gathering additional information on the list of officially categorized boroughs in Vancouver from Wikipedia.](#part2): Borough information will be used to map the existing data where each neighborhood can be assigned with the right borough.\n",
    "\n",
    "- [**Part 3**: Creating a new consolidated dataset of the Neighborhoods, along with their boroughs, crime data, and the respective Neighbourhood's co-ordinates.](#part3): This data will be fetched using OpenCage Geocoder to find the safest borough and explore the neighborhood by plotting it on maps using Folium and perform exploratory data analysis.\n",
    "\n",
    "- [**Part 4**: Creating a new consolidated dataset of the Neighborhoods, boroughs, and the most common venues and the respective Neighbourhood along with co-ordinates.](#part4): This data will be fetched using Four Square API to explore the neighborhood venues and to apply a machine learning algorithm to cluster the neighborhoods and present the findings by plotting it on maps using Folium."
   ]
  },
  {
   "cell_type": "markdown",
   "metadata": {},
   "source": [
    "### Importing all the necessary Libraries"
   ]
  },
  {
   "cell_type": "code",
   "execution_count": 35,
   "metadata": {},
   "outputs": [
    {
     "name": "stdout",
     "output_type": "stream",
     "text": [
      "Matplotlib version:  3.1.0\n",
      "Libraries imported\n"
     ]
    }
   ],
   "source": [
    "import numpy as np\n",
    "import pandas as pd\n",
    "\n",
    "# use the inline backend to generate the plots within the browser\n",
    "%matplotlib inline \n",
    "\n",
    "#Importing Matplot lib and associated packages to perform Data Visualisation and Exploratory Data Analysis\n",
    "import matplotlib as mpl\n",
    "import matplotlib.pyplot as plt\n",
    "\n",
    "#mpl.style.use('ggplot') # optional: for ggplot-like style\n",
    "\n",
    "# check for latest version of Matplotlib\n",
    "print ('Matplotlib version: ', mpl.__version__) # >= 2.0.0\n",
    "\n",
    "# Matplotlib and associated plotting modules\n",
    "import matplotlib.cm as cm\n",
    "import matplotlib.colors as colors\n",
    "\n",
    "#Importing folium to visualise Maps and plot based on Lat and Lng\n",
    "import folium\n",
    "\n",
    "#Requests to request web pages by making get requests to FourSquare REST Client\n",
    "import requests\n",
    "\n",
    "#To normalise data returned by FourSquare API\n",
    "from pandas.io.json import json_normalize\n",
    "\n",
    "#Importing KMeans from SciKit library to Classify neighborhoods into clusters\n",
    "from sklearn.cluster import KMeans\n",
    "\n",
    "#Importing itertools for visualize\n",
    "from itertools import cycle, islice\n",
    "\n",
    "print('Libraries imported')"
   ]
  },
  {
   "cell_type": "markdown",
   "metadata": {},
   "source": [
    "### **Part 1:** Using a IBM dataset containing the New York Borough, Neighborhood and geometry coordinates<a name=\"part1\"></a>\n",
    "\n",
    "\n",
    "####  New York Dataset\n",
    "\n",
    "Properties of the New York dataset\n",
    "\n",
    "*   Borough - Recorded borough\n",
    "*   Neighborhood - Recorded neighborhood\n",
    "*   Latitude - Recorded latitude\n",
    "*   Longitude - Recorded longitude\n",
    "\n",
    "\n",
    "Data set URL: https://cocl.us/new_york_dataset"
   ]
  },
  {
   "cell_type": "code",
   "execution_count": 2,
   "metadata": {},
   "outputs": [],
   "source": [
    "def get_new_york_data():\n",
    "    url='https://cocl.us/new_york_dataset'\n",
    "    resp=requests.get(url).json()\n",
    "    \n",
    "    # all data is present in features label\n",
    "    features=resp['features']\n",
    "    \n",
    "    # define the dataframe columns\n",
    "    column_names = ['Borough', 'Neighborhood', 'Latitude', 'Longitude'] \n",
    "    # instantiate the dataframe\n",
    "    new_york_data = pd.DataFrame(columns=column_names)\n",
    "    \n",
    "    for data in features:\n",
    "        # get Borough and Neighborhood\n",
    "        borough = data['properties']['borough'] \n",
    "        neighborhood_name = data['properties']['name']\n",
    "        \n",
    "        # get Latitude and Longitude\n",
    "        neighborhood_latlon = data['geometry']['coordinates']\n",
    "        neighborhood_lat = neighborhood_latlon[1]\n",
    "        neighborhood_lon = neighborhood_latlon[0]\n",
    "    \n",
    "        new_york_data = new_york_data.append({'Borough': borough,\n",
    "                                          'Neighborhood': neighborhood_name,\n",
    "                                          'Latitude': neighborhood_lat,\n",
    "                                          'Longitude': neighborhood_lon}, ignore_index=True)\n",
    "    \n",
    "    return new_york_data"
   ]
  },
  {
   "cell_type": "code",
   "execution_count": 3,
   "metadata": {},
   "outputs": [],
   "source": [
    "df = get_new_york_data()"
   ]
  },
  {
   "cell_type": "markdown",
   "metadata": {},
   "source": [
    "### Total Neighborhood in different Borough"
   ]
  },
  {
   "cell_type": "code",
   "execution_count": 48,
   "metadata": {},
   "outputs": [],
   "source": [
    "df_count_neigh = df.groupby('Borough').count()['Neighborhood'].sort_values(ascending = False).to_frame()"
   ]
  },
  {
   "cell_type": "code",
   "execution_count": 50,
   "metadata": {
    "jupyter": {
     "source_hidden": true
    }
   },
   "outputs": [
    {
     "data": {
      "image/png": "[encoded data removed]",
      "text/plain": [
       "<Figure size 1440x576 with 1 Axes>"
      ]
     },
     "metadata": {
      "needs_background": "light"
     },
     "output_type": "display_data"
    }
   ],
   "source": [
    "#set ax parameters\n",
    "figsize = (20, 8)\n",
    "width = 0.8\n",
    "title = \"Number of Neighborhood for each Borough in New York City\"\n",
    "\n",
    "#Create ax\n",
    "ax = df_count_neigh.plot(kind = 'bar', figsize = figsize, width = width, color = '#FF707B', rot = 0)\n",
    "\n",
    "#Text Decoration\n",
    "ax.set_title(title, fontdict = {'fontsize': 16})\n",
    "ax.set_xticklabels(df_count_neigh.index, fontdict = {'fontsize': 14})\n",
    "ax.set_xlabel(\"\")\n",
    "\n",
    "#Borderless\n",
    "ax.set_yticklabels(\"\")\n",
    "ax.get_yaxis().set_visible(False)\n",
    "ax.spines['top'].set_visible(False)\n",
    "ax.spines['right'].set_visible(False)\n",
    "ax.spines['left'].set_visible(False)\n",
    "\n",
    "for p in ax.patches:                 \n",
    "    ax.annotate(\n",
    "        \"{}\".format(p.get_height()),\n",
    "        (p.get_x()+p.get_width()/2., p.get_height()), \n",
    "        ha='center',\n",
    "        va='center', \n",
    "        xytext=(0, 10),\n",
    "        textcoords='offset points', \n",
    "        fontsize = 14\n",
    "    )\n",
    "    "
   ]
  },
  {
   "cell_type": "markdown",
   "metadata": {},
   "source": [
    "We see that Queens has highest number of neighborhoods"
   ]
  },
  {
   "cell_type": "markdown",
   "metadata": {},
   "source": [
    "### **Part 2:** Gathering additional information about the Thai Restaurant for each neighborhood from FoursquareAPI<a name=\"part2\"></a>"
   ]
  },
  {
   "cell_type": "code",
   "execution_count": null,
   "metadata": {},
   "outputs": [],
   "source": []
  }
 ],
 "metadata": {
  "kernelspec": {
   "display_name": "Python 3",
   "language": "python",
   "name": "python3"
  },
  "language_info": {
   "codemirror_mode": {
    "name": "ipython",
    "version": 3
   },
   "file_extension": ".py",
   "mimetype": "text/x-python",
   "name": "python",
   "nbconvert_exporter": "python",
   "pygments_lexer": "ipython3",
   "version": "3.7.6"
  }
 },
 "nbformat": 4,
 "nbformat_minor": 4
}
